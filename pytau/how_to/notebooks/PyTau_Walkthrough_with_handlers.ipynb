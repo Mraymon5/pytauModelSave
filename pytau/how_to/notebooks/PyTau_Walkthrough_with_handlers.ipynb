{
 "cells": [
  {
   "cell_type": "code",
   "execution_count": null,
   "metadata": {},
   "outputs": [],
   "source": [
    "import os"
   ]
  },
  {
   "cell_type": "markdown",
   "metadata": {},
   "source": [
    "# Download and extract data"
   ]
  },
  {
   "cell_type": "code",
   "execution_count": 12,
   "metadata": {},
   "outputs": [],
   "source": [
    "LINK_TO_DATA='1s1svxg4CvyUi9eeMzqUbcpiwCtNc170z'"
   ]
  },
  {
   "cell_type": "code",
   "execution_count": 3,
   "metadata": {
    "scrolled": true
   },
   "outputs": [
    {
     "name": "stdout",
     "output_type": "stream",
     "text": [
      "/home/abuzarmahmood/anaconda3/lib/python3.6/site-packages/secretstorage/dhcrypto.py:16: CryptographyDeprecationWarning: int_from_bytes is deprecated, use int.from_bytes instead\n",
      "  from cryptography.utils import int_from_bytes\n",
      "/home/abuzarmahmood/anaconda3/lib/python3.6/site-packages/secretstorage/util.py:25: CryptographyDeprecationWarning: int_from_bytes is deprecated, use int.from_bytes instead\n",
      "  from cryptography.utils import int_from_bytes\n",
      "Requirement already satisfied: gdown in /home/abuzarmahmood/anaconda3/lib/python3.6/site-packages (4.6.4)\n",
      "Requirement already satisfied: beautifulsoup4 in /home/abuzarmahmood/anaconda3/lib/python3.6/site-packages (from gdown) (4.8.2)\n",
      "Requirement already satisfied: requests[socks] in /home/abuzarmahmood/anaconda3/lib/python3.6/site-packages (from gdown) (2.27.1)\n",
      "Requirement already satisfied: filelock in /home/abuzarmahmood/anaconda3/lib/python3.6/site-packages (from gdown) (3.0.12)\n",
      "Requirement already satisfied: tqdm in /home/abuzarmahmood/anaconda3/lib/python3.6/site-packages (from gdown) (4.64.0)\n",
      "Requirement already satisfied: six in /home/abuzarmahmood/anaconda3/lib/python3.6/site-packages (from gdown) (1.15.0)\n",
      "Requirement already satisfied: soupsieve>=1.2 in /home/abuzarmahmood/anaconda3/lib/python3.6/site-packages (from beautifulsoup4->gdown) (1.9.5)\n",
      "Requirement already satisfied: urllib3<1.27,>=1.21.1 in /home/abuzarmahmood/anaconda3/lib/python3.6/site-packages (from requests[socks]->gdown) (1.26.9)\n",
      "Requirement already satisfied: charset-normalizer~=2.0.0 in /home/abuzarmahmood/anaconda3/lib/python3.6/site-packages (from requests[socks]->gdown) (2.0.12)\n",
      "Requirement already satisfied: certifi>=2017.4.17 in /home/abuzarmahmood/anaconda3/lib/python3.6/site-packages (from requests[socks]->gdown) (2021.5.30)\n",
      "Requirement already satisfied: idna<4,>=2.5 in /home/abuzarmahmood/anaconda3/lib/python3.6/site-packages (from requests[socks]->gdown) (2.8)\n",
      "Requirement already satisfied: PySocks!=1.5.7,>=1.5.6 in /home/abuzarmahmood/anaconda3/lib/python3.6/site-packages (from requests[socks]->gdown) (1.7.1)\n",
      "Requirement already satisfied: importlib-resources in /home/abuzarmahmood/anaconda3/lib/python3.6/site-packages (from tqdm->gdown) (5.4.0)\n",
      "Requirement already satisfied: zipp>=3.1.0 in /home/abuzarmahmood/anaconda3/lib/python3.6/site-packages (from importlib-resources->tqdm->gdown) (3.6.0)\n"
     ]
    }
   ],
   "source": [
    "!pip install gdown"
   ]
  },
  {
   "cell_type": "code",
   "execution_count": 4,
   "metadata": {},
   "outputs": [],
   "source": [
    "!mkdir test_data"
   ]
  },
  {
   "cell_type": "code",
   "execution_count": 5,
   "metadata": {},
   "outputs": [],
   "source": [
    "os.chdir('./test_data')"
   ]
  },
  {
   "cell_type": "code",
   "execution_count": 13,
   "metadata": {},
   "outputs": [
    {
     "name": "stdout",
     "output_type": "stream",
     "text": [
      "Downloading...\n",
      "From: https://drive.google.com/uc?id=1s1svxg4CvyUi9eeMzqUbcpiwCtNc170z\n",
      "To: /media/bigdata/projects/pytau/pytau/how_to/examples/test_data/test_data.zip\n",
      "100%|████████████████████████████████████████| 514k/514k [00:00<00:00, 16.0MB/s]\n"
     ]
    }
   ],
   "source": [
    "!gdown {LINK_TO_DATA} -O test_data.zip"
   ]
  },
  {
   "cell_type": "code",
   "execution_count": 15,
   "metadata": {},
   "outputs": [
    {
     "name": "stdout",
     "output_type": "stream",
     "text": [
      "Archive:  test_data.zip\n",
      "replace AM11_4Tastes_191030_114043_spike_trains_only/AM11_4Tastes_191030_114043_copy.info? [y]es, [n]o, [A]ll, [N]one, [r]ename: ^C\n"
     ]
    }
   ],
   "source": [
    "!unzip test_data.zip"
   ]
  },
  {
   "cell_type": "code",
   "execution_count": 16,
   "metadata": {},
   "outputs": [
    {
     "name": "stdout",
     "output_type": "stream",
     "text": [
      "rm: cannot remove 'test_data.zip': No such file or directory\r\n"
     ]
    }
   ],
   "source": [
    "!rm test_data.zip"
   ]
  },
  {
   "cell_type": "code",
   "execution_count": 17,
   "metadata": {},
   "outputs": [],
   "source": [
    "data_dir = os.path.abspath('AM11_4Tastes_191030_114043_spike_trains_only')\n",
    "print(data_dir)"
   ]
  },
  {
   "cell_type": "markdown",
   "metadata": {},
   "source": [
    "# Deal with paths"
   ]
  },
  {
   "cell_type": "code",
   "execution_count": 21,
   "metadata": {},
   "outputs": [],
   "source": [
    "pytau_base_dir = '/media/bigdata/projects/pytau'\n",
    "sys.path.append(pytau_base_dir)"
   ]
  },
  {
   "cell_type": "code",
   "execution_count": 23,
   "metadata": {},
   "outputs": [],
   "source": [
    "# Change database save path\n",
    "!echo {pytau_base_dir}/pytau/how_to/examples/saved_models > {pytau_base_dir}/pytau/config/MODEL_SAVE_DIR.params"
   ]
  },
  {
   "cell_type": "markdown",
   "metadata": {},
   "source": [
    "# Perform Analyses"
   ]
  },
  {
   "cell_type": "code",
   "execution_count": 42,
   "metadata": {},
   "outputs": [],
   "source": [
    "## Import modules\n",
    "import sys\n",
    "from pytau.changepoint_io import FitHandler, DatabaseHandler"
   ]
  },
  {
   "cell_type": "code",
   "execution_count": 37,
   "metadata": {},
   "outputs": [],
   "source": [
    "# Specify params for fit\n",
    "model_parameters = dict(\n",
    "    states=4,\n",
    "    fit=40000,\n",
    "    samples=20000,\n",
    "    model_kwargs={'None': None},\n",
    "        )\n",
    "\n",
    "preprocess_parameters = dict(\n",
    "    time_lims=[2000, 4000],\n",
    "    bin_width=50,\n",
    "    data_transform='None',  # Can also be 'spike_shuffled','trial_shuffled'\n",
    "    )\n",
    "\n",
    "FitHandler_kwargs = dict(\n",
    "    data_dir=data_dir,\n",
    "    taste_num= 0,\n",
    "    region_name= 'all',  # Should match specification in info file or 'all'\n",
    "    laser_type=None,\n",
    "    experiment_name= 'pytau_test',\n",
    "    )"
   ]
  },
  {
   "cell_type": "code",
   "execution_count": 38,
   "metadata": {},
   "outputs": [
    {
     "name": "stdout",
     "output_type": "stream",
     "text": [
      "Fit database does not exist yet\n",
      "MODEL_PARAMS will have to be set\n",
      "PREPROCESS_PARAMS will have to be set\n"
     ]
    }
   ],
   "source": [
    "## Initialize handler, and feed paramters\n",
    "handler = FitHandler(**FitHandler_kwargs)\n",
    "handler.set_model_params(**model_parameters)\n",
    "handler.set_preprocess_params(**preprocess_parameters)"
   ]
  },
  {
   "cell_type": "code",
   "execution_count": 39,
   "metadata": {},
   "outputs": [
    {
     "name": "stdout",
     "output_type": "stream",
     "text": [
      "Loading spike trains from AM11_4Tastes_191030_114043_spike_trains_only, dig_in 0, laser None\n",
      "Preprocessing spike trains, preprocessing func: <preprocess_single_taste>\n",
      "Generating Model, model func: <single_taste_poisson>\n",
      "Running inference, inference func: <advi_fit>\n"
     ]
    },
    {
     "data": {
      "text/html": [
       "\n",
       "    <div>\n",
       "        <style>\n",
       "            /* Turns off some styling */\n",
       "            progress {\n",
       "                /* gets rid of default border in Firefox and Opera. */\n",
       "                border: none;\n",
       "                /* Needs to be in here for Safari polyfill so background images work as expected. */\n",
       "                background-size: auto;\n",
       "            }\n",
       "            .progress-bar-interrupted, .progress-bar-interrupted::-webkit-progress-bar {\n",
       "                background: #F44336;\n",
       "            }\n",
       "        </style>\n",
       "      <progress value='40000' class='' max='40000' style='width:300px; height:20px; vertical-align: middle;'></progress>\n",
       "      100.00% [40000/40000 01:23<00:00 Average Loss = 22,166]\n",
       "    </div>\n",
       "    "
      ],
      "text/plain": [
       "<IPython.core.display.HTML object>"
      ]
     },
     "metadata": {},
     "output_type": "display_data"
    },
    {
     "name": "stderr",
     "output_type": "stream",
     "text": [
      "Finished [100%]: Average Loss = 22,166\n"
     ]
    },
    {
     "name": "stdout",
     "output_type": "stream",
     "text": [
      "Saving inference output to : \n",
      "/media/bigdata/projects/pytau/pytau/how_to/examples/saved_models/pytau_test\n",
      "================================\n",
      "\n"
     ]
    }
   ],
   "source": [
    "handler.run_inference()\n",
    "handler.save_fit_output()"
   ]
  },
  {
   "cell_type": "markdown",
   "metadata": {},
   "source": [
    "### Look at inference outputs"
   ]
  },
  {
   "cell_type": "code",
   "execution_count": 41,
   "metadata": {},
   "outputs": [
    {
     "data": {
      "text/plain": [
       "dict_keys(['model', 'approx', 'lambda', 'tau', 'data'])"
      ]
     },
     "execution_count": 41,
     "metadata": {},
     "output_type": "execute_result"
    }
   ],
   "source": [
    "handler.inference_outs.keys()"
   ]
  },
  {
   "cell_type": "markdown",
   "metadata": {},
   "source": [
    "# Load data from saved output"
   ]
  },
  {
   "cell_type": "code",
   "execution_count": 43,
   "metadata": {},
   "outputs": [
    {
     "name": "stdout",
     "output_type": "stream",
     "text": [
      "0 rows found with all NA, removing...\n",
      "Removing 0 duplicate rows\n",
      "0 mismatches from database\n",
      "0 mismatches from files\n",
      "==== Clearing Completed ====\n"
     ]
    }
   ],
   "source": [
    "fit_database = DatabaseHandler()\n",
    "fit_database.drop_duplicates()\n",
    "fit_database.clear_mismatched_paths()"
   ]
  },
  {
   "cell_type": "code",
   "execution_count": 45,
   "metadata": {},
   "outputs": [],
   "source": [
    "dframe = fit_database.fit_database"
   ]
  },
  {
   "cell_type": "code",
   "execution_count": 47,
   "metadata": {},
   "outputs": [
    {
     "data": {
      "text/html": [
       "<div>\n",
       "<style scoped>\n",
       "    .dataframe tbody tr th:only-of-type {\n",
       "        vertical-align: middle;\n",
       "    }\n",
       "\n",
       "    .dataframe tbody tr th {\n",
       "        vertical-align: top;\n",
       "    }\n",
       "\n",
       "    .dataframe thead th {\n",
       "        text-align: right;\n",
       "    }\n",
       "</style>\n",
       "<table border=\"1\" class=\"dataframe\">\n",
       "  <thead>\n",
       "    <tr style=\"text-align: right;\">\n",
       "      <th></th>\n",
       "      <th>0</th>\n",
       "    </tr>\n",
       "  </thead>\n",
       "  <tbody>\n",
       "    <tr>\n",
       "      <th>preprocess.time_lims</th>\n",
       "      <td>[2000, 4000]</td>\n",
       "    </tr>\n",
       "    <tr>\n",
       "      <th>preprocess.bin_width</th>\n",
       "      <td>50</td>\n",
       "    </tr>\n",
       "    <tr>\n",
       "      <th>preprocess.data_transform</th>\n",
       "      <td>None</td>\n",
       "    </tr>\n",
       "    <tr>\n",
       "      <th>preprocess.preprocessor_name</th>\n",
       "      <td>preprocess_single_taste</td>\n",
       "    </tr>\n",
       "    <tr>\n",
       "      <th>model.states</th>\n",
       "      <td>4</td>\n",
       "    </tr>\n",
       "    <tr>\n",
       "      <th>model.fit</th>\n",
       "      <td>40000</td>\n",
       "    </tr>\n",
       "    <tr>\n",
       "      <th>model.samples</th>\n",
       "      <td>20000</td>\n",
       "    </tr>\n",
       "    <tr>\n",
       "      <th>model.model_kwargs</th>\n",
       "      <td>{'None': None}</td>\n",
       "    </tr>\n",
       "    <tr>\n",
       "      <th>model.model_template_name</th>\n",
       "      <td>single_taste_poisson</td>\n",
       "    </tr>\n",
       "    <tr>\n",
       "      <th>model.inference_func_name</th>\n",
       "      <td>advi_fit</td>\n",
       "    </tr>\n",
       "    <tr>\n",
       "      <th>data.data_dir</th>\n",
       "      <td>/media/bigdata/projects/pytau/pytau/how_to/exa...</td>\n",
       "    </tr>\n",
       "    <tr>\n",
       "      <th>data.basename</th>\n",
       "      <td>AM11_4Tastes_191030_114043_spike_trains_only</td>\n",
       "    </tr>\n",
       "    <tr>\n",
       "      <th>data.animal_name</th>\n",
       "      <td>AM11</td>\n",
       "    </tr>\n",
       "    <tr>\n",
       "      <th>data.session_date</th>\n",
       "      <td>only</td>\n",
       "    </tr>\n",
       "    <tr>\n",
       "      <th>data.taste_num</th>\n",
       "      <td>0</td>\n",
       "    </tr>\n",
       "    <tr>\n",
       "      <th>data.laser_type</th>\n",
       "      <td>NaN</td>\n",
       "    </tr>\n",
       "    <tr>\n",
       "      <th>data.region_name</th>\n",
       "      <td>all</td>\n",
       "    </tr>\n",
       "    <tr>\n",
       "      <th>exp.exp_name</th>\n",
       "      <td>pytau_test</td>\n",
       "    </tr>\n",
       "    <tr>\n",
       "      <th>exp.model_id</th>\n",
       "      <td>cab85810</td>\n",
       "    </tr>\n",
       "    <tr>\n",
       "      <th>exp.save_path</th>\n",
       "      <td>/media/bigdata/projects/pytau/pytau/how_to/exa...</td>\n",
       "    </tr>\n",
       "    <tr>\n",
       "      <th>exp.fit_date</th>\n",
       "      <td>03-23-23</td>\n",
       "    </tr>\n",
       "    <tr>\n",
       "      <th>module.pymc3_version</th>\n",
       "      <td>3.9.3</td>\n",
       "    </tr>\n",
       "    <tr>\n",
       "      <th>module.theano_version</th>\n",
       "      <td>1.0.5</td>\n",
       "    </tr>\n",
       "  </tbody>\n",
       "</table>\n",
       "</div>"
      ],
      "text/plain": [
       "                                                                              0\n",
       "preprocess.time_lims                                               [2000, 4000]\n",
       "preprocess.bin_width                                                         50\n",
       "preprocess.data_transform                                                  None\n",
       "preprocess.preprocessor_name                            preprocess_single_taste\n",
       "model.states                                                                  4\n",
       "model.fit                                                                 40000\n",
       "model.samples                                                             20000\n",
       "model.model_kwargs                                               {'None': None}\n",
       "model.model_template_name                                  single_taste_poisson\n",
       "model.inference_func_name                                              advi_fit\n",
       "data.data_dir                 /media/bigdata/projects/pytau/pytau/how_to/exa...\n",
       "data.basename                      AM11_4Tastes_191030_114043_spike_trains_only\n",
       "data.animal_name                                                           AM11\n",
       "data.session_date                                                          only\n",
       "data.taste_num                                                                0\n",
       "data.laser_type                                                             NaN\n",
       "data.region_name                                                            all\n",
       "exp.exp_name                                                         pytau_test\n",
       "exp.model_id                                                           cab85810\n",
       "exp.save_path                 /media/bigdata/projects/pytau/pytau/how_to/exa...\n",
       "exp.fit_date                                                           03-23-23\n",
       "module.pymc3_version                                                      3.9.3\n",
       "module.theano_version                                                     1.0.5"
      ]
     },
     "execution_count": 47,
     "metadata": {},
     "output_type": "execute_result"
    }
   ],
   "source": [
    "dframe.T"
   ]
  },
  {
   "cell_type": "code",
   "execution_count": 54,
   "metadata": {},
   "outputs": [
    {
     "name": "stderr",
     "output_type": "stream",
     "text": [
      "/home/abuzarmahmood/anaconda3/lib/python3.6/site-packages/numpy/core/fromnumeric.py:3373: RuntimeWarning: Mean of empty slice.\n",
      "  out=out, **kwargs)\n"
     ]
    }
   ],
   "source": [
    "# Load data\n",
    "from pytau.changepoint_analysis import PklHandler\n",
    "exp_save_path = dframe['exp.save_path'].iloc[0]\n",
    "this_handler = PklHandler(exp_save_path)"
   ]
  },
  {
   "cell_type": "code",
   "execution_count": 55,
   "metadata": {},
   "outputs": [
    {
     "data": {
      "text/plain": [
       "['__class__',\n",
       " '__delattr__',\n",
       " '__dict__',\n",
       " '__dir__',\n",
       " '__doc__',\n",
       " '__eq__',\n",
       " '__format__',\n",
       " '__ge__',\n",
       " '__getattribute__',\n",
       " '__gt__',\n",
       " '__hash__',\n",
       " '__init__',\n",
       " '__init_subclass__',\n",
       " '__le__',\n",
       " '__lt__',\n",
       " '__module__',\n",
       " '__ne__',\n",
       " '__new__',\n",
       " '__reduce__',\n",
       " '__reduce_ex__',\n",
       " '__repr__',\n",
       " '__setattr__',\n",
       " '__sizeof__',\n",
       " '__str__',\n",
       " '__subclasshook__',\n",
       " '__weakref__',\n",
       " '_fit_model',\n",
       " '_model_structure',\n",
       " 'data',\n",
       " 'dir_name',\n",
       " 'file_name_base',\n",
       " 'firing',\n",
       " 'lambda_array',\n",
       " 'metadata',\n",
       " 'pkl_file_path',\n",
       " 'pretty_metadata',\n",
       " 'processed_spikes',\n",
       " 'tau',\n",
       " 'tau_array']"
      ]
     },
     "execution_count": 55,
     "metadata": {},
     "output_type": "execute_result"
    }
   ],
   "source": [
    "dir(this_handler)"
   ]
  },
  {
   "cell_type": "code",
   "execution_count": 56,
   "metadata": {},
   "outputs": [
    {
     "data": {
      "text/plain": [
       "array([[2747, 3674, 3761],\n",
       "       [2848, 2863, 2905],\n",
       "       [2498, 3317, 3351],\n",
       "       [3028, 3053, 3075],\n",
       "       [3099, 3200, 3941],\n",
       "       [2149, 2719, 2780],\n",
       "       [2557, 3061, 3171],\n",
       "       [2548, 2892, 3075],\n",
       "       [2389, 3085, 3196],\n",
       "       [2654, 3451, 3627],\n",
       "       [2252, 3055, 3137],\n",
       "       [2248, 2965, 3053],\n",
       "       [2476, 2545, 2670],\n",
       "       [2083, 3502, 3947],\n",
       "       [2766, 2951, 3937],\n",
       "       [2484, 3063, 3947],\n",
       "       [2236, 2347, 3383],\n",
       "       [2476, 2597, 3945],\n",
       "       [2433, 2788, 3531],\n",
       "       [2362, 2459, 3905],\n",
       "       [2112, 2626, 3740],\n",
       "       [2372, 2910, 3947],\n",
       "       [2068, 2660, 3157],\n",
       "       [2046, 3325, 3475],\n",
       "       [2939, 3051, 3714],\n",
       "       [2427, 2896, 2974],\n",
       "       [2083, 3152, 3200],\n",
       "       [2056, 3592, 3825],\n",
       "       [2038, 3092, 3939],\n",
       "       [2041, 3848, 3946]])"
      ]
     },
     "execution_count": 56,
     "metadata": {},
     "output_type": "execute_result"
    }
   ],
   "source": [
    "this_handler.tau.scaled_mode_tau"
   ]
  },
  {
   "cell_type": "code",
   "execution_count": null,
   "metadata": {},
   "outputs": [],
   "source": []
  }
 ],
 "metadata": {
  "kernelspec": {
   "display_name": "Python 3 (ipykernel)",
   "language": "python",
   "name": "python3"
  },
  "language_info": {
   "codemirror_mode": {
    "name": "ipython",
    "version": 3
   },
   "file_extension": ".py",
   "mimetype": "text/x-python",
   "name": "python",
   "nbconvert_exporter": "python",
   "pygments_lexer": "ipython3",
   "version": "3.6.13"
  }
 },
 "nbformat": 4,
 "nbformat_minor": 4
}
