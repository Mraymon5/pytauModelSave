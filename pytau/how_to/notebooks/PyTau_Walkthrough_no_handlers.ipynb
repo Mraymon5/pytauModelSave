{
 "cells": [
  {
   "cell_type": "code",
   "execution_count": 50,
   "metadata": {},
   "outputs": [],
   "source": [
    "import os\n",
    "import sys\n",
    "import pylab as plt\n",
    "import numpy as np\n",
    "from scipy import stats"
   ]
  },
  {
   "cell_type": "code",
   "execution_count": 2,
   "metadata": {},
   "outputs": [
    {
     "data": {
      "text/plain": [
       "'/media/bigdata/projects/pytau/pytau/how_to/examples'"
      ]
     },
     "execution_count": 2,
     "metadata": {},
     "output_type": "execute_result"
    }
   ],
   "source": [
    "pwd"
   ]
  },
  {
   "cell_type": "markdown",
   "metadata": {},
   "source": [
    "# Download and extract data"
   ]
  },
  {
   "cell_type": "code",
   "execution_count": 3,
   "metadata": {},
   "outputs": [],
   "source": [
    "LINK_TO_DATA='1s1svxg4CvyUi9eeMzqUbcpiwCtNc170z'"
   ]
  },
  {
   "cell_type": "code",
   "execution_count": 4,
   "metadata": {
    "scrolled": true
   },
   "outputs": [
    {
     "name": "stdout",
     "output_type": "stream",
     "text": [
      "/home/abuzarmahmood/anaconda3/lib/python3.6/site-packages/secretstorage/dhcrypto.py:16: CryptographyDeprecationWarning: int_from_bytes is deprecated, use int.from_bytes instead\n",
      "  from cryptography.utils import int_from_bytes\n",
      "/home/abuzarmahmood/anaconda3/lib/python3.6/site-packages/secretstorage/util.py:25: CryptographyDeprecationWarning: int_from_bytes is deprecated, use int.from_bytes instead\n",
      "  from cryptography.utils import int_from_bytes\n",
      "Requirement already satisfied: gdown in /home/abuzarmahmood/anaconda3/lib/python3.6/site-packages (4.6.4)\n",
      "Requirement already satisfied: filelock in /home/abuzarmahmood/anaconda3/lib/python3.6/site-packages (from gdown) (3.0.12)\n",
      "Requirement already satisfied: six in /home/abuzarmahmood/anaconda3/lib/python3.6/site-packages (from gdown) (1.15.0)\n",
      "Requirement already satisfied: beautifulsoup4 in /home/abuzarmahmood/anaconda3/lib/python3.6/site-packages (from gdown) (4.8.2)\n",
      "Requirement already satisfied: requests[socks] in /home/abuzarmahmood/anaconda3/lib/python3.6/site-packages (from gdown) (2.27.1)\n",
      "Requirement already satisfied: tqdm in /home/abuzarmahmood/anaconda3/lib/python3.6/site-packages (from gdown) (4.64.0)\n",
      "Requirement already satisfied: soupsieve>=1.2 in /home/abuzarmahmood/anaconda3/lib/python3.6/site-packages (from beautifulsoup4->gdown) (1.9.5)\n",
      "Requirement already satisfied: idna<4,>=2.5 in /home/abuzarmahmood/anaconda3/lib/python3.6/site-packages (from requests[socks]->gdown) (2.8)\n",
      "Requirement already satisfied: certifi>=2017.4.17 in /home/abuzarmahmood/anaconda3/lib/python3.6/site-packages (from requests[socks]->gdown) (2021.5.30)\n",
      "Requirement already satisfied: charset-normalizer~=2.0.0 in /home/abuzarmahmood/anaconda3/lib/python3.6/site-packages (from requests[socks]->gdown) (2.0.12)\n",
      "Requirement already satisfied: urllib3<1.27,>=1.21.1 in /home/abuzarmahmood/anaconda3/lib/python3.6/site-packages (from requests[socks]->gdown) (1.26.9)\n",
      "Requirement already satisfied: PySocks!=1.5.7,>=1.5.6 in /home/abuzarmahmood/anaconda3/lib/python3.6/site-packages (from requests[socks]->gdown) (1.7.1)\n",
      "Requirement already satisfied: importlib-resources in /home/abuzarmahmood/anaconda3/lib/python3.6/site-packages (from tqdm->gdown) (5.4.0)\n",
      "Requirement already satisfied: zipp>=3.1.0 in /home/abuzarmahmood/anaconda3/lib/python3.6/site-packages (from importlib-resources->tqdm->gdown) (3.6.0)\n"
     ]
    }
   ],
   "source": [
    "!pip install gdown"
   ]
  },
  {
   "cell_type": "code",
   "execution_count": 5,
   "metadata": {},
   "outputs": [
    {
     "name": "stdout",
     "output_type": "stream",
     "text": [
      "mkdir: cannot create directory ‘test_data’: File exists\r\n"
     ]
    }
   ],
   "source": [
    "!mkdir test_data"
   ]
  },
  {
   "cell_type": "code",
   "execution_count": 6,
   "metadata": {},
   "outputs": [],
   "source": [
    "os.chdir('./test_data')"
   ]
  },
  {
   "cell_type": "code",
   "execution_count": 7,
   "metadata": {},
   "outputs": [
    {
     "name": "stdout",
     "output_type": "stream",
     "text": [
      "Downloading...\n",
      "From: https://drive.google.com/uc?id=1s1svxg4CvyUi9eeMzqUbcpiwCtNc170z\n",
      "To: /media/bigdata/projects/pytau/pytau/how_to/examples/test_data/test_data.zip\n",
      "100%|████████████████████████████████████████| 514k/514k [00:00<00:00, 15.7MB/s]\n"
     ]
    }
   ],
   "source": [
    "!gdown {LINK_TO_DATA} -O test_data.zip"
   ]
  },
  {
   "cell_type": "code",
   "execution_count": 8,
   "metadata": {},
   "outputs": [
    {
     "name": "stdout",
     "output_type": "stream",
     "text": [
      "Archive:  test_data.zip\n",
      "replace AM11_4Tastes_191030_114043_spike_trains_only/AM11_4Tastes_191030_114043_copy.info? [y]es, [n]o, [A]ll, [N]one, [r]ename: ^C\n"
     ]
    }
   ],
   "source": [
    "!unzip test_data.zip"
   ]
  },
  {
   "cell_type": "code",
   "execution_count": 9,
   "metadata": {},
   "outputs": [],
   "source": [
    "!rm test_data.zip"
   ]
  },
  {
   "cell_type": "code",
   "execution_count": 10,
   "metadata": {},
   "outputs": [
    {
     "name": "stdout",
     "output_type": "stream",
     "text": [
      "/media/bigdata/projects/pytau/pytau/how_to/examples/test_data/AM11_4Tastes_191030_114043_spike_trains_only\n"
     ]
    }
   ],
   "source": [
    "data_dir = os.path.abspath('AM11_4Tastes_191030_114043_spike_trains_only')\n",
    "print(data_dir)"
   ]
  },
  {
   "cell_type": "markdown",
   "metadata": {},
   "source": [
    "# Deal with paths"
   ]
  },
  {
   "cell_type": "code",
   "execution_count": 14,
   "metadata": {},
   "outputs": [],
   "source": [
    "pytau_base_dir = '/media/bigdata/projects/pytau'\n",
    "sys.path.append(pytau_base_dir)"
   ]
  },
  {
   "cell_type": "code",
   "execution_count": 15,
   "metadata": {},
   "outputs": [],
   "source": [
    "# Change database save path\n",
    "!echo {pytau_base_dir}/pytau/how_to/examples/saved_models > {pytau_base_dir}/pytau/config/MODEL_SAVE_DIR.params"
   ]
  },
  {
   "cell_type": "markdown",
   "metadata": {},
   "source": [
    "# Load Spike Train"
   ]
  },
  {
   "cell_type": "code",
   "execution_count": 16,
   "metadata": {},
   "outputs": [],
   "source": [
    "import tables\n",
    "from glob import glob\n",
    "h5_path = glob(os.path.join(data_dir,'*.h5'))[0]"
   ]
  },
  {
   "cell_type": "code",
   "execution_count": 31,
   "metadata": {},
   "outputs": [],
   "source": [
    "wanted_dig_in_ind = 0\n",
    "with tables.open_file(h5_path,'r') as hf5:\n",
    "    dig_in_list = hf5.list_nodes('/spike_trains')\n",
    "    wanted_dig_in = dig_in_list[wanted_dig_in_ind]\n",
    "    spike_train = wanted_dig_in.spike_array[:]"
   ]
  },
  {
   "cell_type": "code",
   "execution_count": 32,
   "metadata": {},
   "outputs": [
    {
     "data": {
      "text/plain": [
       "(30, 35, 7000)"
      ]
     },
     "execution_count": 32,
     "metadata": {},
     "output_type": "execute_result"
    }
   ],
   "source": [
    "spike_train.shape"
   ]
  },
  {
   "cell_type": "code",
   "execution_count": 36,
   "metadata": {},
   "outputs": [],
   "source": [
    "# Bin Spike Train"
   ]
  },
  {
   "cell_type": "code",
   "execution_count": 33,
   "metadata": {},
   "outputs": [],
   "source": [
    "from pytau.changepoint_preprocess import preprocess_single_taste"
   ]
  },
  {
   "cell_type": "code",
   "execution_count": 34,
   "metadata": {},
   "outputs": [],
   "source": [
    "binned_spike_array = preprocess_single_taste(\n",
    "        spike_array = spike_train, \n",
    "        time_lims = [2000,4000],\n",
    "        bin_width = 50,\n",
    "        data_transform = None)"
   ]
  },
  {
   "cell_type": "code",
   "execution_count": 35,
   "metadata": {},
   "outputs": [
    {
     "data": {
      "text/plain": [
       "(30, 35, 40)"
      ]
     },
     "execution_count": 35,
     "metadata": {},
     "output_type": "execute_result"
    }
   ],
   "source": [
    "binned_spike_array.shape"
   ]
  },
  {
   "cell_type": "markdown",
   "metadata": {},
   "source": [
    "# Infer Changepoints"
   ]
  },
  {
   "cell_type": "code",
   "execution_count": 39,
   "metadata": {},
   "outputs": [],
   "source": [
    "from pytau.changepoint_model import single_taste_poisson, advi_fit"
   ]
  },
  {
   "cell_type": "code",
   "execution_count": 42,
   "metadata": {},
   "outputs": [
    {
     "name": "stdout",
     "output_type": "stream",
     "text": [
      "█\r"
     ]
    },
    {
     "name": "stderr",
     "output_type": "stream",
     "text": [
      "Finished [100%]: Average Loss = 22,163\n"
     ]
    }
   ],
   "source": [
    "# Create and fit model\n",
    "n_fit = 40000\n",
    "n_samples = 20000\n",
    "n_states = 4\n",
    "model = single_taste_poisson(binned_spike_array, n_states)\n",
    "model, approx, lambda_stack, tau_samples, fit_data = \\\n",
    "        advi_fit(model = model, fit = n_fit, samples = n_samples)"
   ]
  },
  {
   "cell_type": "code",
   "execution_count": 47,
   "metadata": {},
   "outputs": [
    {
     "data": {
      "image/png": "[encoded data removed]",
      "text/plain": [
       "<Figure size 1080x360 with 2 Axes>"
      ]
     },
     "metadata": {
      "needs_background": "light"
     },
     "output_type": "display_data"
    }
   ],
   "source": [
    "# Plot ELBO over iterations, should be flat by the end\n",
    "fig,ax = plt.subplots(1,2,figsize=(15,5))\n",
    "ax[0].plot(-approx.hist, alpha=.3)\n",
    "ax[0].set_ylabel('ELBO')\n",
    "ax[0].set_xlabel('iteration');\n",
    "\n",
    "ind = int(n_fit - n_fit*0.05)\n",
    "last_iters = approx.hist[ind:]\n",
    "ax[1].plot(-last_iters, alpha=.3)\n",
    "x = np.arange(len(last_iters))\n",
    "binned_iters = np.reshape(last_iters, (-1, 100)).mean(axis=-1)\n",
    "binned_x = x[::100]\n",
    "ax[1].plot(binned_x, -binned_iters)\n",
    "ax[1].set_title('Final 5% of iterations')\n",
    "ax[1].set_ylabel('ELBO')\n",
    "ax[1].set_xlabel('iteration');"
   ]
  },
  {
   "cell_type": "code",
   "execution_count": 51,
   "metadata": {},
   "outputs": [],
   "source": [
    "# Extract changepoint values\n",
    "tau_stack = tau_samples\n",
    "int_tau = np.vectorize(np.int)(tau_stack)\n",
    "mode_tau = np.squeeze(stats.mode(int_tau,axis=0)[0])"
   ]
  },
  {
   "cell_type": "code",
   "execution_count": 52,
   "metadata": {},
   "outputs": [
    {
     "data": {
      "text/plain": [
       "array([[31, 33, 34],\n",
       "       [16, 17, 18],\n",
       "       [12, 26, 26],\n",
       "       [20, 21, 21],\n",
       "       [22, 23, 38],\n",
       "       [ 3, 14, 15],\n",
       "       [11, 21, 23],\n",
       "       [12, 18, 20],\n",
       "       [ 8, 22, 24],\n",
       "       [12, 29, 32],\n",
       "       [ 5, 21, 22],\n",
       "       [ 4, 19, 20],\n",
       "       [ 8, 11, 13],\n",
       "       [ 1, 29, 38],\n",
       "       [16, 18, 38],\n",
       "       [10, 21, 38],\n",
       "       [ 5,  7, 27],\n",
       "       [ 9, 12, 38],\n",
       "       [ 8, 15, 30],\n",
       "       [ 7,  9, 38],\n",
       "       [ 2, 12, 34],\n",
       "       [ 7, 18, 38],\n",
       "       [ 1, 13, 22],\n",
       "       [ 1, 26, 29],\n",
       "       [18, 20, 34],\n",
       "       [ 7, 18, 19],\n",
       "       [ 2, 22, 24],\n",
       "       [ 1, 31, 36],\n",
       "       [ 1, 21, 38],\n",
       "       [ 1, 36, 38]])"
      ]
     },
     "execution_count": 52,
     "metadata": {},
     "output_type": "execute_result"
    }
   ],
   "source": [
    "mode_tau"
   ]
  },
  {
   "cell_type": "code",
   "execution_count": null,
   "metadata": {},
   "outputs": [],
   "source": []
  }
 ],
 "metadata": {
  "kernelspec": {
   "display_name": "Python 3 (ipykernel)",
   "language": "python",
   "name": "python3"
  },
  "language_info": {
   "codemirror_mode": {
    "name": "ipython",
    "version": 3
   },
   "file_extension": ".py",
   "mimetype": "text/x-python",
   "name": "python",
   "nbconvert_exporter": "python",
   "pygments_lexer": "ipython3",
   "version": "3.6.13"
  }
 },
 "nbformat": 4,
 "nbformat_minor": 4
}
